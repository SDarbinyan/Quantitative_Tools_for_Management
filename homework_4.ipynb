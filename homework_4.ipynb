{
 "cells": [
  {
   "cell_type": "markdown",
   "metadata": {},
   "source": [
    "# Problem 1 - Superify 1"
   ]
  },
  {
   "cell_type": "markdown",
   "metadata": {},
   "source": [
    "For this problem, create a list of 5 strings (e.g. a list consisting of words like men, women, cool etc.). Create a ​for​ loop that will iterate over the elements of the list. If the current element has more than 4 characters, then print that element after adding the ​prefix​ super and a space: e.g. superwomen. For all other cases (less than or equal to 4 characters) print that element adding the ​prefix​ super without any space: e.g. supercool."
   ]
  },
  {
   "cell_type": "code",
   "execution_count": 1,
   "metadata": {},
   "outputs": [],
   "source": [
    "list_1=[\"men\", \"women\", \"cool\", \"sona\", \"sonic\"] "
   ]
  },
  {
   "cell_type": "code",
   "execution_count": 2,
   "metadata": {},
   "outputs": [
    {
     "name": "stdout",
     "output_type": "stream",
     "text": [
      "supermen\n",
      "super women\n",
      "supercool\n",
      "supersona\n",
      "super sonic\n"
     ]
    }
   ],
   "source": [
    "for i in list_1:\n",
    "    if len(i) > 4:\n",
    "        print(\"super \"+i)\n",
    "    else:\n",
    "        print(\"super\"+i)"
   ]
  },
  {
   "cell_type": "markdown",
   "metadata": {},
   "source": [
    "# Problem 2 - Superify 2"
   ]
  },
  {
   "cell_type": "markdown",
   "metadata": {},
   "source": [
    "Solve problem 1 with a while loop."
   ]
  },
  {
   "cell_type": "code",
   "execution_count": 3,
   "metadata": {},
   "outputs": [
    {
     "name": "stdout",
     "output_type": "stream",
     "text": [
      "supermen\n",
      "super women\n",
      "supercool\n",
      "supersona\n",
      "super sonic\n"
     ]
    }
   ],
   "source": [
    "i=0\n",
    "while i < len(list_1) :\n",
    "    if len(list_1[i]) > 4:\n",
    "        print(\"super \"+ list_1[i])\n",
    "    else:\n",
    "        print(\"super\"+ list_1[i])\n",
    "    i = i + 1"
   ]
  },
  {
   "cell_type": "markdown",
   "metadata": {},
   "source": [
    "# Problem 3 - Superify 3"
   ]
  },
  {
   "cell_type": "markdown",
   "metadata": {},
   "source": [
    "Solve problem 1 using dictionary comprehensions which will have the input string (e.g. woman) as key and the output string (e.g. superwoman) as the value."
   ]
  },
  {
   "cell_type": "markdown",
   "metadata": {},
   "source": [
    "### 1 "
   ]
  },
  {
   "cell_type": "code",
   "execution_count": 4,
   "metadata": {},
   "outputs": [],
   "source": [
    "def superify(j):\n",
    "    if len(j) > 4:\n",
    "        return(\"super \" + j)\n",
    "    else:\n",
    "        return(\"super\" + j)"
   ]
  },
  {
   "cell_type": "code",
   "execution_count": 5,
   "metadata": {},
   "outputs": [
    {
     "data": {
      "text/plain": [
       "{'men': 'supermen',\n",
       " 'women': 'super women',\n",
       " 'cool': 'supercool',\n",
       " 'sona': 'supersona',\n",
       " 'sonic': 'super sonic'}"
      ]
     },
     "execution_count": 5,
     "metadata": {},
     "output_type": "execute_result"
    }
   ],
   "source": [
    "{k:superify(k) for k in list_1}"
   ]
  },
  {
   "cell_type": "markdown",
   "metadata": {},
   "source": [
    "### 2"
   ]
  },
  {
   "cell_type": "code",
   "execution_count": 7,
   "metadata": {},
   "outputs": [
    {
     "data": {
      "text/plain": [
       "{'men': 'supermen',\n",
       " 'women': 'super women',\n",
       " 'cool': 'supercool',\n",
       " 'sona': 'supersona',\n",
       " 'sonic': 'super sonic'}"
      ]
     },
     "execution_count": 7,
     "metadata": {},
     "output_type": "execute_result"
    }
   ],
   "source": [
    "{l: \"super \" + l if len(l) > 4 else \"super\" + l for l in list_1}"
   ]
  },
  {
   "cell_type": "markdown",
   "metadata": {},
   "source": [
    "# Problem 4 - Listpop"
   ]
  },
  {
   "cell_type": "markdown",
   "metadata": {},
   "source": [
    "While ​append()​ is a function used to add an element to the list, ​pop()​ is a function (again available only for lists) that is used to delete an element. For example, if we have a list my_list = ['a','b','c','d'], then my_list.pop(2) will delete the 2nd (in Python terminology) element of the list: 'c'. Similarly, my_list.pop(-1) will delete the very last element of it: 'd'. The remaining list after those two operations will be my_list = ['a','b'] Create a while loop, which will delete elements from the string list in Problem 1, as long as the list is not empty (i.e. the while loop must stop once the list of strings becomes empty). ​Note: make sure not to create an infinite loop."
   ]
  },
  {
   "cell_type": "code",
   "execution_count": 8,
   "metadata": {},
   "outputs": [
    {
     "name": "stdout",
     "output_type": "stream",
     "text": [
      "['women', 'cool', 'sona', 'sonic']\n",
      "['cool', 'sona', 'sonic']\n",
      "['sona', 'sonic']\n",
      "['sonic']\n",
      "[]\n"
     ]
    }
   ],
   "source": [
    "while len(list_1) != 0:\n",
    "    list_1.pop(0)\n",
    "    print(list_1)  # if the process of deleting element from  list is not required to be shown print function should be at the beginning of the line or  be absent\n",
    "    "
   ]
  },
  {
   "cell_type": "markdown",
   "metadata": {},
   "source": [
    "# Problem 5 - Numlength"
   ]
  },
  {
   "cell_type": "markdown",
   "metadata": {},
   "source": [
    "Create a list of positive integers with different digits (some one digit, some two digits, some three etc.). For each element in this list check whether that integer has one, two or three (or four, if you have it in your list) digits. The one digit elements to be written into a new list called one_digit, two digit elements into a list called two_digits and so on."
   ]
  },
  {
   "cell_type": "code",
   "execution_count": 9,
   "metadata": {},
   "outputs": [
    {
     "name": "stdout",
     "output_type": "stream",
     "text": [
      "[5, 6, 8, 8]\n",
      "[72, 65, 65, 25, 45, 56]\n",
      "[121, 432, 874, 966]\n",
      "[9998, 5469, 2145]\n"
     ]
    }
   ],
   "source": [
    "int_list=[5, 72, 121, 65, 9998, 6, 65, 8, 5469, 25, 2145, 45, 432, 874, 56, 8, 966]\n",
    "one_digit=[]\n",
    "two_digits=[]\n",
    "three_digits=[]\n",
    "four_digits=[]\n",
    "for m in int_list:\n",
    "    if len(str(m)) == 1:\n",
    "        one_digit.append(m)\n",
    "    elif len(str(m)) == 2:\n",
    "        two_digits.append(m)\n",
    "    elif len(str(m)) == 3:\n",
    "        three_digits.append(m)\n",
    "    else:\n",
    "        four_digits.append(m)\n",
    "print(one_digit)\n",
    "print(two_digits)\n",
    "print(three_digits)\n",
    "print(four_digits)"
   ]
  },
  {
   "cell_type": "code",
   "execution_count": null,
   "metadata": {},
   "outputs": [],
   "source": []
  }
 ],
 "metadata": {
  "kernelspec": {
   "display_name": "Python 3",
   "language": "python",
   "name": "python3"
  },
  "language_info": {
   "codemirror_mode": {
    "name": "ipython",
    "version": 3
   },
   "file_extension": ".py",
   "mimetype": "text/x-python",
   "name": "python",
   "nbconvert_exporter": "python",
   "pygments_lexer": "ipython3",
   "version": "3.7.6"
  }
 },
 "nbformat": 4,
 "nbformat_minor": 2
}
